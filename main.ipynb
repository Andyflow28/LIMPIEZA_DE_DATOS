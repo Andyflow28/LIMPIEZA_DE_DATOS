{
 "cells": [
  {
   "cell_type": "markdown",
   "id": "1706874d",
   "metadata": {},
   "source": [
    "# Data Initialization"
   ]
  },
  {
   "cell_type": "code",
   "execution_count": null,
   "id": "397b72fe",
   "metadata": {},
   "outputs": [],
   "source": [
    "import pandas as pd\n",
    "import seaborn as sns\n",
    "import numpy as np\n",
    "\n",
    "# Cargar datos\n",
    "df = pd.read_csv(\"dirty_cafe_sales.csv\")\n",
    "\n",
    "# Vista general\n",
    "print(df.head())\n",
    "print(df.info())\n",
    "print(df.isnull().sum())  # Valores nulos\n",
    "print(df.duplicated().sum())  # Filas duplicadas\n",
    "print(df.shape[0]) "
   ]
  },
  {
   "cell_type": "code",
   "execution_count": null,
   "id": "ffadc43f",
   "metadata": {},
   "outputs": [],
   "source": [
    "# Opción 1: Eliminar filas con nulos en columna crítica\n",
    "df.replace(['N/A', 'na', '--', 'null', 'sin dato', 'UNKNOWN', 'ERROR'], np.nan, inplace=True)\n",
    "df_clean = df.dropna(subset=['Item', 'Quantity', 'Price Per Unit', 'Payment Method', 'Location', 'Transaction Date']).drop_duplicates()\n",
    "\n",
    "df_clean['Quantity'] = pd.to_numeric(df_clean['Quantity'], errors='coerce')\n",
    "df_clean['Price Per Unit'] = pd.to_numeric(df_clean['Price Per Unit'], errors='coerce')\n",
    "df_clean['Total Spent'] = df_clean['Quantity'] * df_clean['Price Per Unit']\n",
    "\n",
    "print(df_clean.duplicated().sum())\n",
    "\n",
    "print(df_clean.isnull().sum()) \n",
    "print(df_clean.shape[0]) "
   ]
  },
  {
   "cell_type": "code",
   "execution_count": 80,
   "id": "5aa08d68",
   "metadata": {},
   "outputs": [
    {
     "name": "stdout",
     "output_type": "stream",
     "text": [
      "Empty DataFrame\n",
      "Columns: [Transaction ID, Item, Quantity, Price Per Unit, Total Spent, Payment Method, Location, Transaction Date, Total Spent Calculated]\n",
      "Index: []\n",
      "3234\n"
     ]
    }
   ],
   "source": [
    "df_clean = df_clean[(df_clean['Quantity'] > 0) & (df_clean['Price Per Unit'] > 0)]\n",
    "df_clean['Payment Method'] = df_clean['Payment Method'].str.strip().str.title()\n",
    "df_clean['Location'] = df_clean['Location'].str.strip().str.title()\n",
    "df_clean['Total Spent Calculated'] = df_clean['Quantity'] * df_clean['Price Per Unit']\n",
    "discrepancies = df_clean[abs(df_clean['Total Spent'] - df_clean['Total Spent Calculated']) > 0.01]\n",
    "\n",
    "print(discrepancies)\n",
    "df_clean['Item'] = df_clean['Item'].str.strip()\n",
    "df_clean['Transaction Date'] = pd.to_datetime(df_clean['Transaction Date'], errors='coerce')\n",
    "\n",
    "print(df_clean.shape[0]) "
   ]
  }
 ],
 "metadata": {
  "kernelspec": {
   "display_name": "Python 3",
   "language": "python",
   "name": "python3"
  },
  "language_info": {
   "codemirror_mode": {
    "name": "ipython",
    "version": 3
   },
   "file_extension": ".py",
   "mimetype": "text/x-python",
   "name": "python",
   "nbconvert_exporter": "python",
   "pygments_lexer": "ipython3",
   "version": "3.12.10"
  }
 },
 "nbformat": 4,
 "nbformat_minor": 5
}
